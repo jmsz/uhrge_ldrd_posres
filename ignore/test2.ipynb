{
 "cells": [
  {
   "cell_type": "code",
   "execution_count": 1,
   "metadata": {
    "collapsed": true
   },
   "outputs": [],
   "source": [
    "from __future__ import division, print_function\n",
    "from math import floor\n",
    "import numpy as np\n",
    "import matplotlib.pyplot as plt\n",
    "import sys\n",
    "import scipy.stats as stats\n",
    "import lmfit\n",
    "import time\n",
    "import math\n",
    "from datetime import datetime"
   ]
  },
  {
   "cell_type": "code",
   "execution_count": 2,
   "metadata": {
    "collapsed": true
   },
   "outputs": [],
   "source": [
    "def ImportBaseSignals():\n",
    "    data = np.zeros((300, 12, 301 * 6)) #150 in z, 4 strips * 301 samples\n",
    "    for i in range(0, 300*12, 1):\n",
    "        i = int(i)\n",
    "        filename = \"./Strip_SS_\" + str(i) + \".txt\"\n",
    "        rawdata = np.genfromtxt(filename, skip_header=1)\n",
    "        #print(rawdata.shape)\n",
    "        strip0 = rawdata[:,7:8] # strip 1 # CHECK COL NUM\n",
    "        strip1 = rawdata[:,8:9] # strip 2\n",
    "        strip2 = rawdata[:,9:10] # strip 3\n",
    "        strip3 = rawdata[:,12:13] # strip 6\n",
    "        strip4 = rawdata[:,13:14] # strip 7\n",
    "        strip5 = rawdata[:,14:15] # strip 8  # 7 misc + 10 timing\n",
    "        allstrips = np.concatenate((strip0, strip1, strip2, strip3, strip4, strip5)).flatten()\n",
    "        row = int(math.floor(i / 12))\n",
    "        col = int(i % 12)\n",
    "        #print(row, col)\n",
    "        data[row, col] = allstrips # row, column\n",
    "    return data"
   ]
  },
  {
   "cell_type": "code",
   "execution_count": 3,
   "metadata": {
    "collapsed": true
   },
   "outputs": [],
   "source": [
    "base_data = ImportBaseSignals()"
   ]
  },
  {
   "cell_type": "code",
   "execution_count": 4,
   "metadata": {},
   "outputs": [
    {
     "data": {
      "text/plain": [
       "(300, 12, 1806)"
      ]
     },
     "execution_count": 4,
     "metadata": {},
     "output_type": "execute_result"
    }
   ],
   "source": [
    "base_data.shape"
   ]
  },
  {
   "cell_type": "code",
   "execution_count": 5,
   "metadata": {},
   "outputs": [
    {
     "name": "stdout",
     "output_type": "stream",
     "text": [
      "(300, 12, 1806)\n"
     ]
    },
    {
     "data": {
      "image/png": "[encoded data removed]",
      "text/plain": [
       "<matplotlib.figure.Figure at 0x107f82f90>"
      ]
     },
     "metadata": {},
     "output_type": "display_data"
    }
   ],
   "source": [
    "print(base_data.shape)\n",
    "plt.plot(base_data[0][0])\n",
    "#plt.plot(base_data[1][0])\n",
    "#plt.plot(base_data[9][1])\n",
    "plt.plot(base_data[299][11])\n",
    "plt.show()"
   ]
  },
  {
   "cell_type": "code",
   "execution_count": 6,
   "metadata": {
    "collapsed": true
   },
   "outputs": [],
   "source": [
    "sigma = 5"
   ]
  },
  {
   "cell_type": "code",
   "execution_count": 73,
   "metadata": {
    "collapsed": true
   },
   "outputs": [],
   "source": [
    "def moving_avg_filter(x): #(smooths with width of 1, 3 times)\n",
    "    x = x.flatten()\n",
    "    N = 20\n",
    "    length = len(x)\n",
    "    # print(len(x))\n",
    "    #plt.plot(x)\n",
    "    x = np.convolve(x, np.ones((N,))/N, mode='same')\n",
    "    x[length - N:] = x[length -N - 1]\n",
    "    x = np.convolve(x, np.ones((N,))/N, mode='same')\n",
    "    x[length - N:] = x[length -N - 1]\n",
    "    x = np.convolve(x, np.ones((N,))/N, mode='same')\n",
    "    x[length - N:] = x[length -N - 1]\n",
    "    # print(len(x))\n",
    "    #plt.plot(x)\n",
    "    #plt.show()\n",
    "    return x\n",
    "\n",
    "def add_noise(sig, dV):\n",
    "    #np.random.seed()\n",
    "    noise = np.random.normal(0,dV,len(sig))\n",
    "    sig = sig + noise\n",
    "    return sig\n",
    "\n",
    "tau = 4400\n",
    "def add_exp_decay(sig):\n",
    "    #sig = np.multiply(sig, 1000)\n",
    "    for i in range(0, len(sig) ,1):\n",
    "        sig[i] = sig[i] * np.exp(-i/tau)\n",
    "    return sig\n",
    "\n",
    "def baseline_correction(data):\n",
    "    n_data = len(data)\n",
    "    baseline_correction_value = np.mean(data[0:99])\n",
    "    for i in range(0, n_data, 1):\n",
    "        data[i] = data[i] - baseline_correction_value\n",
    "    return data\n",
    "\n",
    "def decay_correction(data, tau):\n",
    "    decay_corrected = []\n",
    "    decay_correction = []\n",
    "    for i in range(1, len(data), 1):\n",
    "        decay = np.sum(data[1:i-1])\n",
    "        decay_correction.append(decay)\n",
    "        decay_corrected.append(data[i] + decay / tau)\n",
    "    decay_corrected.append(data[i-1])\n",
    "    return decay_corrected"
   ]
  },
  {
   "cell_type": "code",
   "execution_count": 192,
   "metadata": {
    "collapsed": true
   },
   "outputs": [],
   "source": [
    "def MakeTestSignals():\n",
    "    data = np.zeros((300, 12, 301 * 6)) #150 in z, 4 strips * 301 samples\n",
    "    dV = 5/200\n",
    "    for i in range(0, 300 * 12, 1):\n",
    "        i = int(i)\n",
    "        filename = \"./Strip_SS_\" + str(i) + \".txt\"\n",
    "        rawdata = np.genfromtxt(filename, skip_header=1)\n",
    "        \n",
    "        strip0 = rawdata[:,7:8] # strip 1 # CHECK COL NUM\n",
    "        strip1 = rawdata[:,8:9] # strip 2\n",
    "        strip2 = rawdata[:,9:10] # strip 3\n",
    "        strip3 = rawdata[:,12:13] # strip 6\n",
    "        strip4 = rawdata[:,13:14] # strip 7\n",
    "        strip5 = rawdata[:,14:15] # strip 8\n",
    "        \n",
    "        strip0 = moving_avg_filter(strip0)\n",
    "        strip0 = moving_avg_filter(strip0)\n",
    "        #strip0 = add_noise(strip0, dV)\n",
    "        \n",
    "        strip1 = moving_avg_filter(strip1)\n",
    "        strip1 = moving_avg_filter(strip1)\n",
    "        #strip1 = add_noise(strip1, dV)\n",
    "\n",
    "        strip2 = moving_avg_filter(strip2)\n",
    "        strip2 = moving_avg_filter(strip2)\n",
    "        #strip2 = add_noise(strip2, dV)\n",
    "\n",
    "        strip3 = moving_avg_filter(strip3)\n",
    "        strip3 = moving_avg_filter(strip3)\n",
    "        #strip3 = add_noise(strip3, dV)\n",
    "\n",
    "        strip4 = moving_avg_filter(strip4)\n",
    "        strip4 = moving_avg_filter(strip4)\n",
    "        #strip4 = add_noise(strip4, dV)\n",
    "\n",
    "        strip5 = moving_avg_filter(strip5)\n",
    "        strip5 = moving_avg_filter(strip5)\n",
    "        #strip5 = add_noise(strip5, dV)\n",
    "        \n",
    "        allstrips = np.concatenate((strip0, strip1, strip2, strip3, strip4, strip5)).flatten()\n",
    "        row = int(i / 12)\n",
    "        col = int(i % 12)\n",
    "        data[row, col] = allstrips # row, column\n",
    "        #data[i] = allstrips \n",
    "    return data"
   ]
  },
  {
   "cell_type": "code",
   "execution_count": 193,
   "metadata": {},
   "outputs": [],
   "source": [
    "test_data = MakeTestSignals()"
   ]
  },
  {
   "cell_type": "code",
   "execution_count": 194,
   "metadata": {},
   "outputs": [
    {
     "data": {
      "image/png": "[encoded data removed]",
      "text/plain": [
       "<matplotlib.figure.Figure at 0x10e989cd0>"
      ]
     },
     "metadata": {},
     "output_type": "display_data"
    }
   ],
   "source": [
    "plt.plot(test_data[0][0][0:301])\n",
    "plt.plot(test_data[0][0][301:602])\n",
    "plt.plot(test_data[0][0][602:903])\n",
    "plt.plot(test_data[0][0][903:1204])\n",
    "plt.show()"
   ]
  },
  {
   "cell_type": "code",
   "execution_count": 195,
   "metadata": {},
   "outputs": [
    {
     "name": "stdout",
     "output_type": "stream",
     "text": [
      "6.93889390391e-18\n",
      "1.993010844e-11\n"
     ]
    },
    {
     "data": {
      "image/png": "[encoded data removed]",
      "text/plain": [
       "<matplotlib.figure.Figure at 0x10e8851d0>"
      ]
     },
     "metadata": {},
     "output_type": "display_data"
    },
    {
     "name": "stdout",
     "output_type": "stream",
     "text": [
      "1806\n"
     ]
    },
    {
     "data": {
      "image/png": "[encoded data removed]",
      "text/plain": [
       "<matplotlib.figure.Figure at 0x10e989190>"
      ]
     },
     "metadata": {},
     "output_type": "display_data"
    }
   ],
   "source": [
    "plt.plot(base_data[0][0][0:301], 'o')\n",
    "print(np.std(base_data[0][0][200:250]))\n",
    "print(np.std(test_data[0][0][200:250]))\n",
    "plt.plot(base_data[0][0][301:602], 'o')\n",
    "plt.plot(base_data[0][0][602:903], 'o')\n",
    "plt.plot(base_data[0][0][903:1204], 'o')\n",
    "plt.plot(base_data[0][0][1204:1505], 'o')\n",
    "plt.plot(base_data[0][0][1505:1806], 'o')\n",
    "plt.plot(test_data[0][0][0:301])\n",
    "plt.plot(test_data[0][0][301:602])\n",
    "plt.plot(test_data[0][0][602:903])\n",
    "plt.plot(test_data[0][0][903:1204])\n",
    "plt.plot(base_data[0][0][1204:1505])\n",
    "plt.plot(base_data[0][0][1505:1806])\n",
    "#plt.xlim([130,160])\n",
    "#plt.ylim([])\n",
    "plt.show()\n",
    "print(len(base_data[0][0]))\n",
    "plt.plot(base_data[0][0], 'o')\n",
    "plt.plot(test_data[0][0])\n",
    "plt.show()"
   ]
  },
  {
   "cell_type": "code",
   "execution_count": 141,
   "metadata": {
    "collapsed": true
   },
   "outputs": [],
   "source": [
    "def shift_signal(sig0, sig1):\n",
    "    # sig0 = ref signal\n",
    "    # sig1 = one being compared\n",
    "    #0.1 * np.amax(sig1) #TODO\n",
    "    chisq_list = []\n",
    "    sig = sig1\n",
    "    #print(sig)\n",
    "    chi_squared = np.sum(((sig-sig0)/sigma)**2)\n",
    "    chisq_list.append(chi_squared)\n",
    "    sigout = sig1\n",
    "    chisq = chi_squared\n",
    "    for amp in [0]: # TODO\n",
    "        #sig0 = sig0 * amp\n",
    "        #amp = np.amax(sig1)\n",
    "        for i in range(1, int(len(sig1) / 4), 1):  # shift to larger times\n",
    "            sig = list(np.linspace(0, sig1[0], i))\n",
    "            sig.extend(sig1[0:-(i)])\n",
    "            chi_squared = round(np.sum(((sig-sig0)/sigma)**2),5)\n",
    "            chisq_list.append(chi_squared)\n",
    "            if chi_squared < chisq:\n",
    "                sigout = sig\n",
    "                chisq = chi_squared\n",
    "                #print(amp)\n",
    "                #print('chi squared ', chi_squared)\n",
    "        #plt.figure(60)\n",
    "        #plt.title('improved with right shift')\n",
    "        #plt.plot(sig0, 'b-', linewidth=7.0, alpha=0.5,label='base')\n",
    "        #plt.plot(sig1, 'g-', linewidth=5.0, alpha=0.5,label = 'original')\n",
    "        #plt.plot(sig, 'r--', linewidth=3.0, alpha=0.5, label = 'shifted')\n",
    "        #plt.legend()\n",
    "        #plt.show()\n",
    "        for i in range(1, int(len(sig1) / 4), 1):  # shift to smaller times\n",
    "            sig = list(sig1[(i):])\n",
    "            sig.extend([float(sig1[-1])] * (i))\n",
    "            chi_squared = np.sum(((sig-sig0)/sigma)**2)\n",
    "            chisq_list.append(chi_squared)\n",
    "            #print(' chi_sq ', chi_squared)\n",
    "            if chi_squared == min(chisq_list):\n",
    "                #print('hhbba')\n",
    "                #print(i)\n",
    "                #print(sigout)\n",
    "                sigout = sig\n",
    "                chisq = chi_squared\n",
    "        #plt.title('improved with left shift')\n",
    "        #plt.plot(sig0, 'b-', linewidth=7.0, alpha=0.5, label = 'basis')\n",
    "        #plt.plot(sig1, 'g-', linewidth=5.0, alpha=0.5,label = 'original')\n",
    "        #plt.plot(sig, 'r--', linewidth=3.0, alpha=0.5, label = 'shifted')\n",
    "        #plt.legend()\n",
    "        #plt.show()\n",
    "    ##plt.figure(60)\n",
    "    ##plt.title('final')\n",
    "    ##plt.plot(sig0, 'b-', linewidth=7.0, alpha=0.5, label = 'basis')\n",
    "    ##plt.plot(sig1, 'g-', linewidth=5.0, alpha=0.5,label = 'original')\n",
    "    ##plt.plot(sigout, 'r--', linewidth=3.0, alpha=0.5, label = 'shifted')\n",
    "    ##plt.legend()\n",
    "    ##plt.show()\n",
    "    return sigout, chisq\n",
    "         #chisq_list = []\n",
    "    #print('final chi_sq ', chisq)\n",
    "#    plt.plot(sig0, 'b-', linewidth=7.0, alpha=0.5, label = 'basis')\n",
    " #   plt.plot(sig1, 'g-', linewidth=5.0, alpha=0.5,label = 'original')\n",
    "  #  plt.plot(sigout, 'r--', linewidth=3.0, alpha=0.5, label = 'shifted')\n",
    "   # plt.legend()\n",
    "   # plt.show()\n",
    "   # return sigout, chisq"
   ]
  },
  {
   "cell_type": "code",
   "execution_count": 142,
   "metadata": {
    "collapsed": true
   },
   "outputs": [],
   "source": [
    "def FindSignal(sig_raw, plot=True):\n",
    "    chi2_values = []\n",
    "    # amp = np.amax(sig_raw)\n",
    "    # sig_raw = sig_raw / amp # normalize input signal\n",
    "    \n",
    "    for i in range(0, len(base_data), 1): # i  event number, j = strip number, \n",
    "        sig_ref = base_data[i, 0:]\n",
    "\n",
    "        strip0_ref = sig_ref[0:301]\n",
    "        strip1_ref = sig_ref[301:602]\n",
    "        strip2_ref = sig_ref[602:903]\n",
    "        strip3_ref = sig_ref[903:1204]\n",
    "        \n",
    "        strip0 = sig_raw[0:301]\n",
    "        strip1 = sig_raw[301:602]\n",
    "        strip2 = sig_raw[602:903]\n",
    "        strip3 = sig_raw[903:1204]\n",
    "        \n",
    "        strip0, chi2 = shift_signal(strip0_ref, strip0) # does time and amplitude\n",
    "        strip1, chi2 = shift_signal(strip1_ref, strip1) # does time and amplitude\n",
    "        strip2, chi2 = shift_signal(strip2_ref, strip2) # does time and amplitude\n",
    "        strip3, chi2 = shift_signal(strip3_ref, strip3) # does time and amplitude\n",
    "        \n",
    "        sig = np.concatenate((strip0, strip1, strip2, strip3)).flatten()\n",
    "        \n",
    "        chi_squared = np.sum(((sig_ref-sig)/xerror)**2)\n",
    "        chi_squared = np.round(chi_squared, 5)\n",
    "        \n",
    "        chi2_values.append(chi2)\n",
    "        \n",
    "        if plot == True:\n",
    "            print(chi2)\n",
    "            plt.figure(1)\n",
    "            plt.plot(sig_ref, 'b-', linewidth=7.0, alpha=0.5, label = 'basis')\n",
    "            plt.plot(sig_raw, 'g-', linewidth=5.0, alpha=0.5,label = 'original')\n",
    "            plt.plot(sig, 'r--', linewidth=3.0, alpha=0.5, label = 'shifted')\n",
    "            plt.text(0, 0.1, chi2) \n",
    "            plt.legend()\n",
    "            plt.savefig('test1.pdf')\n",
    "            plt.show()\n",
    "        \n",
    "    i = np.argmin(chi2_values)\n",
    "    \n",
    "    print('index ', i)\n",
    "    \n",
    "    sig_ref = base_data[i, 0:]\n",
    "    \n",
    "    strip0_ref = sig_ref[0:301]\n",
    "    strip1_ref = sig_ref[301:602]\n",
    "    strip2_ref = sig_ref[602:903]\n",
    "    strip3_ref = sig_ref[903:1204]\n",
    "        \n",
    "    strip0 = sig_raw[0:301]\n",
    "    strip1 = sig_raw[301:602]\n",
    "    strip2 = sig_raw[602:903]\n",
    "    strip3 = sig_raw[903:1204]\n",
    "        \n",
    "    strip0, chi2 = shift_signal(strip0_ref, strip0) # does time and amplitude\n",
    "    strip1, chi2 = shift_signal(strip1_ref, strip1) # does time and amplitude\n",
    "    strip2, chi2 = shift_signal(strip2_ref, strip2) # does time and amplitude\n",
    "    strip3, chi2 = shift_signal(strip3_ref, strip3) # does time and amplitude\n",
    "        \n",
    "    sig = np.concatenate((strip0, strip1, strip2, strip3)).flatten()\n",
    "        \n",
    "    chi_squared = np.sum(((sig_ref-sig)/(np.sqrt(2) * sigma))**2)\n",
    "    chi_squared = np.round(chi_squared, 5)\n",
    "    \n",
    "    if plot == True:\n",
    "        plt.figure(1)\n",
    "        plt.cla()\n",
    "        plt.clf()\n",
    "        plt.plot(sig_ref, 'b-', linewidth=7.0, alpha=0.5, label = 'basis')\n",
    "        plt.plot(sig_raw, 'g-', linewidth=5.0, alpha=0.5,label = 'original')\n",
    "        plt.plot(sig, 'r--', linewidth=3.0, alpha=0.5, label = 'shifted')\n",
    "        plt.text(0, 0.1, chi2) \n",
    "        plt.legend()\n",
    "        plt.savefig('test1.pdf')\n",
    "        plt.show()\n",
    "        \n",
    "    return i, chi2"
   ]
  },
  {
   "cell_type": "code",
   "execution_count": 171,
   "metadata": {
    "collapsed": true
   },
   "outputs": [],
   "source": [
    "def Chi2Single(sig_raw, sig_ref, sigma, plot=True):\n",
    "    # chi2_values = []\n",
    "    # amp = np.amax(sig_raw)\n",
    "    # sig_raw = sig_raw / amp # normalize input signal\n",
    "    \n",
    "    strip0_ref = sig_ref[0:301]\n",
    "    strip1_ref = sig_ref[301:602]\n",
    "    strip2_ref = sig_ref[602:903]\n",
    "    strip3_ref = sig_ref[903:1204]\n",
    "    strip4_ref = sig_ref[1204:1505]\n",
    "    strip5_ref = sig_ref[1505:1806]\n",
    "        \n",
    "    strip0 = sig_raw[0:301]\n",
    "    strip1 = sig_raw[301:602]\n",
    "    strip2 = sig_raw[602:903]\n",
    "    strip3 = sig_raw[903:1204]\n",
    "    strip4 = sig_raw[1204:1505]\n",
    "    strip5 = sig_raw[1505:1806]\n",
    "        \n",
    "    #strip0, chi2 = shift_signal(strip0_ref, strip0) # does time and amplitude\n",
    "    #strip1, chi2 = shift_signal(strip1_ref, strip1) # does time and amplitude\n",
    "    #strip2, chi2 = shift_signal(strip2_ref, strip2) # does time and amplitude\n",
    "    #strip3, chi2 = shift_signal(strip3_ref, strip3) # does time and amplitude\n",
    "    #strip4, chi2 = shift_signal(strip4_ref, strip4) # does time and amplitude\n",
    "    #strip5, chi2 = shift_signal(strip5_ref, strip5) # does time and amplitude\n",
    "\n",
    "        \n",
    "    sig = np.concatenate((strip0, strip1, strip2, strip3, strip4, strip5)).flatten()\n",
    "        \n",
    "    chi_squared = np.sum(((sig_ref-sig)/(sigma))**2)\n",
    "    chi_squared = np.round(chi_squared, 5)\n",
    "        \n",
    "    if plot == True:\n",
    "            plt.figure(1)\n",
    "            plt.plot(sig_ref, 'b-', linewidth=7.0, alpha=0.5, label = 'basis')\n",
    "            plt.plot(sig_raw, 'g-', linewidth=5.0, alpha=0.5,label = 'original')\n",
    "            plt.plot(sig, 'r--', linewidth=3.0, alpha=0.5, label = 'shifted')\n",
    "            plt.text(0, 0.1, chi_squared) \n",
    "            plt.legend()\n",
    "            plt.savefig('test.pdf')\n",
    "            plt.show()\n",
    "            \n",
    "    # print('chi2 ', chi2)\n",
    "    posres = calc_pos_res(chi_squared)\n",
    "    # print('posres ', posres)\n",
    "    \n",
    "    return posres, chi_squared "
   ]
  },
  {
   "cell_type": "code",
   "execution_count": 172,
   "metadata": {
    "collapsed": true
   },
   "outputs": [],
   "source": [
    "def calc_pos_res(Xi2): # FWHM\n",
    "    d = 0.05 # in mm\n",
    "    # typical signal series noise after digitization= 3keV RMS or 7 keV FWHM\n",
    "    #interaction_energy = 200 # keV\n",
    "    #SNR = interaction_energy / 2.0\n",
    "    SNR = 200/5.0\n",
    "    dx = 2.354 * d / (SNR * np.sqrt(Xi2))\n",
    "    dx = round(dx, 5)\n",
    "    return dx"
   ]
  },
  {
   "cell_type": "code",
   "execution_count": 196,
   "metadata": {},
   "outputs": [
    {
     "data": {
      "image/png": "[encoded data removed]",
      "text/plain": [
       "<matplotlib.figure.Figure at 0x10ebb6610>"
      ]
     },
     "metadata": {},
     "output_type": "display_data"
    },
    {
     "name": "stdout",
     "output_type": "stream",
     "text": [
      "chi2:  1.10047\n",
      "pos:  0.0028\n"
     ]
    },
    {
     "data": {
      "image/png": "[encoded data removed]",
      "text/plain": [
       "<matplotlib.figure.Figure at 0x10e762750>"
      ]
     },
     "metadata": {},
     "output_type": "display_data"
    },
    {
     "name": "stdout",
     "output_type": "stream",
     "text": [
      "chi2:  1897.99095\n",
      "pos:  7e-05\n"
     ]
    },
    {
     "data": {
      "image/png": "[encoded data removed]",
      "text/plain": [
       "<matplotlib.figure.Figure at 0x10e7624d0>"
      ]
     },
     "metadata": {},
     "output_type": "display_data"
    },
    {
     "name": "stdout",
     "output_type": "stream",
     "text": [
      "chi2:  824.95301\n",
      "pos:  0.0001\n"
     ]
    }
   ],
   "source": [
    "ref_sig = base_data[0, 0]\n",
    "raw_sig = base_data[1, 0]\n",
    "pos, chi2 = Chi2Single(raw_sig,ref_sig, 1, plot=True)\n",
    "print('chi2: ',chi2)\n",
    "print('pos: ', pos)\n",
    "\n",
    "ref_sig = base_data[0, 0]\n",
    "raw_sig = test_data[1, 0]\n",
    "pos, chi2 = Chi2Single(raw_sig,ref_sig, 5/200, plot=True)\n",
    "print('chi2: ',chi2)\n",
    "print('pos: ', pos)\n",
    "\n",
    "ref_sig = test_data[0, 0]\n",
    "raw_sig = test_data[1, 0]\n",
    "pos, chi2 = Chi2Single(raw_sig,ref_sig, np.sqrt(2) * 5/200, plot=True)\n",
    "print('chi2: ',chi2)\n",
    "print('pos: ', pos)"
   ]
  },
  {
   "cell_type": "code",
   "execution_count": 210,
   "metadata": {
    "collapsed": true
   },
   "outputs": [],
   "source": [
    "# Z and Z + 1\n",
    "chi_2_vals = []\n",
    "z_pos_vals = np.zeros((299, 12))\n",
    "z_chi_sq = np.zeros((299, 12))\n",
    "#print(pos_vals)\n",
    "#for i in range(0, len(base_data)):\n",
    "for j in range(0, 12):\n",
    "    for i in range(0, 300 - 1):\n",
    "        ref_sig = base_data[i, j]\n",
    "        raw_sig = base_data[i + 1,j]\n",
    "        pos, chi2 = Chi2Single(raw_sig,ref_sig, 5/200, plot=False)\n",
    "        chi_2_vals.append(chi2)\n",
    "        z_pos_vals[i, j] = pos\n",
    "        z_chi_sq[i, j] = chi2"
   ]
  },
  {
   "cell_type": "code",
   "execution_count": 211,
   "metadata": {},
   "outputs": [
    {
     "name": "stdout",
     "output_type": "stream",
     "text": [
      "25.7246031438\n",
      "(299, 12)\n",
      "(12, 12)\n"
     ]
    },
    {
     "data": {
      "image/png": "[encoded data removed]",
      "text/plain": [
       "<matplotlib.figure.Figure at 0x10b2eda50>"
      ]
     },
     "metadata": {},
     "output_type": "display_data"
    },
    {
     "data": {
      "image/png": "[encoded data removed]",
      "text/plain": [
       "<matplotlib.figure.Figure at 0x10e4ccfd0>"
      ]
     },
     "metadata": {},
     "output_type": "display_data"
    }
   ],
   "source": [
    "print(np.mean( z_chi_sq))\n",
    "print(z_chi_sq.shape)\n",
    "print(z_chi_sq[0:12,].shape)\n",
    "\n",
    "plt.imshow( z_chi_sq, vmin= 0,cmap='jet', interpolation='none', extent=[0,0.05*12,0, 0.05*299])\n",
    "plt.colorbar()\n",
    "plt.savefig('./z_chi2_test.png')\n",
    "plt.show()\n",
    "plt.imshow( z_chi_sq[0:12,],  vmin= 0,cmap='jet', interpolation='none', extent=[0,0.05*12,0, 0.05*10])\n",
    "plt.colorbar()\n",
    "plt.savefig('./z_chi2_zoom_test.png')\n",
    "plt.show()"
   ]
  },
  {
   "cell_type": "code",
   "execution_count": 212,
   "metadata": {},
   "outputs": [
    {
     "name": "stdout",
     "output_type": "stream",
     "text": [
      "(299, 12)\n",
      "(20, 9)\n",
      "(2,)\n",
      "(20, 45)\n",
      "\n",
      "0.000646727982163\n"
     ]
    },
    {
     "data": {
      "image/png": "[encoded data removed]",
      "text/plain": [
       "<matplotlib.figure.Figure at 0x10eb22850>"
      ]
     },
     "metadata": {},
     "output_type": "display_data"
    },
    {
     "name": "stdout",
     "output_type": "stream",
     "text": [
      "(299, 12)\n",
      "(20, 9)\n",
      "(2,)\n",
      "(20, 45)\n",
      "\n",
      "0.000646727982163\n"
     ]
    },
    {
     "data": {
      "image/png": "[encoded data removed]",
      "text/plain": [
       "<matplotlib.figure.Figure at 0x111ed6e90>"
      ]
     },
     "metadata": {},
     "output_type": "display_data"
    }
   ],
   "source": [
    "# Z and Z + 1\n",
    "lrg_array = np.array((299, 9 * 10))\n",
    "print(z_chi_sq.shape)\n",
    "mini_array = z_chi_sq[0:20,2:11]\n",
    "print(mini_array.shape)\n",
    "#print(pos_vals)\n",
    "#for i in range(0, len(base_data)):\n",
    "#lrg_array[:,0:9] =z_pos_vals[:,0:9]\n",
    "print(lrg_array.shape)\n",
    "lrg_array= np.concatenate((mini_array, mini_array, mini_array, mini_array, mini_array), axis = 1)\n",
    "print(lrg_array.shape)\n",
    "\n",
    "print()\n",
    "print(np.mean(z_pos_vals))\n",
    "plt.imshow(lrg_array, cmap='jet',  vmin= 0,interpolation='none', extent=[0,0.05*45,0, 20*0.05])\n",
    "plt.colorbar()\n",
    "plt.savefig('./lrg_z_chi.png')\n",
    "plt.show()\n",
    "\n",
    "# Z and Z + 1\n",
    "lrg_array = np.array((299, 9 * 10))\n",
    "print(z_pos_vals.shape)\n",
    "mini_array = z_pos_vals[0:20,2:11]\n",
    "print(mini_array.shape)\n",
    "#print(pos_vals)\n",
    "#for i in range(0, len(base_data)):\n",
    "#lrg_array[:,0:9] =z_pos_vals[:,0:9]\n",
    "print(lrg_array.shape)\n",
    "lrg_array= np.concatenate((mini_array, mini_array, mini_array, mini_array, mini_array), axis = 1)\n",
    "print(lrg_array.shape)\n",
    "\n",
    "print()\n",
    "print(np.mean(z_pos_vals))\n",
    "plt.imshow(lrg_array, cmap='jet',  vmin= 0,interpolation='none', extent=[0,0.05*45,0, 20*0.05])\n",
    "plt.colorbar()\n",
    "plt.savefig('./lrg_z_pos.png')\n",
    "plt.show()"
   ]
  },
  {
   "cell_type": "code",
   "execution_count": 213,
   "metadata": {},
   "outputs": [
    {
     "name": "stdout",
     "output_type": "stream",
     "text": [
      "0.000646727982163\n",
      "(299, 12)\n"
     ]
    },
    {
     "data": {
      "image/png": "[encoded data removed]",
      "text/plain": [
       "<matplotlib.figure.Figure at 0x11222f8d0>"
      ]
     },
     "metadata": {},
     "output_type": "display_data"
    },
    {
     "data": {
      "image/png": "[encoded data removed]",
      "text/plain": [
       "<matplotlib.figure.Figure at 0x10e84b050>"
      ]
     },
     "metadata": {},
     "output_type": "display_data"
    },
    {
     "data": {
      "image/png": "[encoded data removed]",
      "text/plain": [
       "<matplotlib.figure.Figure at 0x10e98fd50>"
      ]
     },
     "metadata": {},
     "output_type": "display_data"
    }
   ],
   "source": [
    "print(np.mean(z_pos_vals))\n",
    "print(z_pos_vals.shape)\n",
    "plt.imshow(z_pos_vals, cmap='jet',interpolation='none', extent=[0,0.05*12,0, 299*0.05])\n",
    "plt.colorbar()\n",
    "plt.savefig('./z_pos_col.pdf')\n",
    "plt.show()\n",
    "plt.imshow(z_pos_vals[0:15,], cmap='jet', interpolation='none', extent=[0,0.05*12,0, 15*0.05])\n",
    "plt.colorbar()\n",
    "plt.savefig('./z_pos_top.pdf')\n",
    "plt.show()\n",
    "plt.imshow(z_pos_vals[280:300,], cmap='jet', interpolation='none', extent=[0,0.05*12,0, 20*0.05])\n",
    "plt.colorbar()\n",
    "plt.savefig('./z_pos_bot.pdf')\n",
    "plt.show()"
   ]
  },
  {
   "cell_type": "code",
   "execution_count": 215,
   "metadata": {},
   "outputs": [],
   "source": [
    "# Z and Z + 1\n",
    "chi_2_vals = []\n",
    "z_pos_vals = np.zeros((299, 12))\n",
    "z_chi_sq = np.zeros((299, 12))\n",
    "#print(pos_vals)\n",
    "#for i in range(0, len(base_data)):\n",
    "for j in range(0, 12):\n",
    "    for i in range(0, 300 - 1):\n",
    "        ref_sig = test_data[i, j]\n",
    "        raw_sig = test_data[i + 1,j]\n",
    "        pos, chi2 = Chi2Single(raw_sig,ref_sig,np.sqrt(2) * 5, plot=False)\n",
    "        chi_2_vals.append(chi2)\n",
    "        z_pos_vals[i, j] = pos\n",
    "        z_chi_sq[i, j] = chi2"
   ]
  },
  {
   "cell_type": "code",
   "execution_count": 216,
   "metadata": {},
   "outputs": [
    {
     "name": "stdout",
     "output_type": "stream",
     "text": [
      "2.79170663322\n",
      "(299, 12)\n",
      "(12, 12)\n"
     ]
    },
    {
     "data": {
      "image/png": "[encoded data removed]",
      "text/plain": [
       "<matplotlib.figure.Figure at 0x111e753d0>"
      ]
     },
     "metadata": {},
     "output_type": "display_data"
    },
    {
     "data": {
      "image/png": "[encoded data removed]",
      "text/plain": [
       "<matplotlib.figure.Figure at 0x10e9c5410>"
      ]
     },
     "metadata": {},
     "output_type": "display_data"
    }
   ],
   "source": [
    "print(np.mean( z_chi_sq))\n",
    "print(z_chi_sq.shape)\n",
    "print(z_chi_sq[0:12,].shape)\n",
    "\n",
    "plt.imshow( z_chi_sq, vmin= 0,cmap='jet', interpolation='none', extent=[0,0.05*12,0, 0.05*299])\n",
    "plt.colorbar()\n",
    "plt.savefig('./z_chi2_test.png')\n",
    "plt.show()\n",
    "plt.imshow( z_chi_sq[0:12,],  vmin= 0,cmap='jet', interpolation='none', extent=[0,0.05*12,0, 0.05*10])\n",
    "plt.colorbar()\n",
    "plt.savefig('./z_chi2_zoom_test.png')\n",
    "plt.show()"
   ]
  },
  {
   "cell_type": "code",
   "execution_count": 217,
   "metadata": {},
   "outputs": [
    {
     "name": "stdout",
     "output_type": "stream",
     "text": [
      "0.00243054626533\n",
      "(299, 12)\n"
     ]
    },
    {
     "data": {
      "image/png": "[encoded data removed]",
      "text/plain": [
       "<matplotlib.figure.Figure at 0x10e660d10>"
      ]
     },
     "metadata": {},
     "output_type": "display_data"
    },
    {
     "data": {
      "image/png": "[encoded data removed]",
      "text/plain": [
       "<matplotlib.figure.Figure at 0x10b15da90>"
      ]
     },
     "metadata": {},
     "output_type": "display_data"
    },
    {
     "data": {
      "image/png": "[encoded data removed]",
      "text/plain": [
       "<matplotlib.figure.Figure at 0x112220f10>"
      ]
     },
     "metadata": {},
     "output_type": "display_data"
    }
   ],
   "source": [
    "print(np.mean(z_pos_vals))\n",
    "print(z_pos_vals.shape)\n",
    "plt.imshow(z_pos_vals, cmap='jet',interpolation='none', extent=[0,0.05*12,0, 299*0.05])\n",
    "plt.colorbar()\n",
    "plt.savefig('./z_pos_col.pdf')\n",
    "plt.show()\n",
    "plt.imshow(z_pos_vals[0:15,], cmap='jet',interpolation='none', extent=[0,0.05*12,0, 15*0.05])\n",
    "plt.colorbar()\n",
    "plt.savefig('./z_pos_top.pdf')\n",
    "plt.show()\n",
    "plt.imshow(z_pos_vals[280:300,], cmap='jet',interpolation='none', extent=[0,0.05*12,0, 20*0.05])\n",
    "plt.colorbar()\n",
    "plt.savefig('./z_pos_bot.pdf')\n",
    "plt.show()"
   ]
  },
  {
   "cell_type": "code",
   "execution_count": 218,
   "metadata": {},
   "outputs": [
    {
     "name": "stdout",
     "output_type": "stream",
     "text": [
      "(299, 12)\n",
      "(20, 9)\n",
      "(2,)\n",
      "(20, 45)\n",
      "\n",
      "0.00243054626533\n"
     ]
    },
    {
     "data": {
      "image/png": "[encoded data removed]",
      "text/plain": [
       "<matplotlib.figure.Figure at 0x10e660290>"
      ]
     },
     "metadata": {},
     "output_type": "display_data"
    }
   ],
   "source": [
    "# Z and Z + 1\n",
    "lrg_array = np.array((299, 9 * 10))\n",
    "print(z_pos_vals.shape)\n",
    "mini_array = z_pos_vals[0:20,2:11]\n",
    "print(mini_array.shape)\n",
    "print(lrg_array.shape)\n",
    "lrg_array= np.concatenate((mini_array, mini_array, mini_array, mini_array, mini_array), axis = 1)\n",
    "print(lrg_array.shape)\n",
    "\n",
    "print()\n",
    "print(np.mean(z_pos_vals))\n",
    "plt.imshow(lrg_array, cmap='jet',interpolation='none', extent=[0,0.05*45,0, 20*0.05])\n",
    "plt.colorbar()\n",
    "plt.savefig('./lrg_z_pos.pdf')\n",
    "plt.show()\n"
   ]
  },
  {
   "cell_type": "code",
   "execution_count": 219,
   "metadata": {},
   "outputs": [
    {
     "ename": "TypeError",
     "evalue": "Chi2Single() takes at least 3 arguments (3 given)",
     "output_type": "error",
     "traceback": [
      "\u001b[0;31m---------------------------------------------------------------------------\u001b[0m",
      "\u001b[0;31mTypeError\u001b[0m                                 Traceback (most recent call last)",
      "\u001b[0;32m<ipython-input-219-9f4b6f0bc178>\u001b[0m in \u001b[0;36m<module>\u001b[0;34m()\u001b[0m\n\u001b[1;32m      8\u001b[0m         \u001b[0mref_sig\u001b[0m \u001b[0;34m=\u001b[0m \u001b[0mtest_data\u001b[0m\u001b[0;34m[\u001b[0m\u001b[0mi\u001b[0m\u001b[0;34m,\u001b[0m \u001b[0mj\u001b[0m\u001b[0;34m]\u001b[0m\u001b[0;34m\u001b[0m\u001b[0m\n\u001b[1;32m      9\u001b[0m         \u001b[0mraw_sig\u001b[0m \u001b[0;34m=\u001b[0m \u001b[0mtest_data\u001b[0m\u001b[0;34m[\u001b[0m\u001b[0mi\u001b[0m\u001b[0;34m,\u001b[0m \u001b[0mj\u001b[0m \u001b[0;34m+\u001b[0m \u001b[0;36m1\u001b[0m\u001b[0;34m]\u001b[0m\u001b[0;34m\u001b[0m\u001b[0m\n\u001b[0;32m---> 10\u001b[0;31m         \u001b[0mpos\u001b[0m\u001b[0;34m,\u001b[0m \u001b[0mchi2\u001b[0m \u001b[0;34m=\u001b[0m \u001b[0mChi2Single\u001b[0m\u001b[0;34m(\u001b[0m\u001b[0mraw_sig\u001b[0m\u001b[0;34m,\u001b[0m\u001b[0mref_sig\u001b[0m\u001b[0;34m,\u001b[0m  \u001b[0mplot\u001b[0m\u001b[0;34m=\u001b[0m\u001b[0mFalse\u001b[0m\u001b[0;34m)\u001b[0m\u001b[0;34m\u001b[0m\u001b[0m\n\u001b[0m\u001b[1;32m     11\u001b[0m         \u001b[0mx_pos_vals\u001b[0m\u001b[0;34m[\u001b[0m\u001b[0mi\u001b[0m\u001b[0;34m,\u001b[0m \u001b[0mj\u001b[0m\u001b[0;34m]\u001b[0m \u001b[0;34m=\u001b[0m \u001b[0mpos\u001b[0m\u001b[0;34m\u001b[0m\u001b[0m\n\u001b[1;32m     12\u001b[0m         \u001b[0mx_chi2_vals\u001b[0m\u001b[0;34m[\u001b[0m\u001b[0mi\u001b[0m\u001b[0;34m,\u001b[0m \u001b[0mj\u001b[0m\u001b[0;34m]\u001b[0m \u001b[0;34m=\u001b[0m \u001b[0mchi2\u001b[0m\u001b[0;34m\u001b[0m\u001b[0m\n",
      "\u001b[0;31mTypeError\u001b[0m: Chi2Single() takes at least 3 arguments (3 given)"
     ]
    }
   ],
   "source": [
    "# X and X + 1\n",
    "x_pos_vals = np.zeros((300, 11))\n",
    "x_chi2_vals = np.zeros((300, 11))\n",
    "#print(pos_vals)\n",
    "#for i in range(0, len(base_data)):\n",
    "for j in range(0, 11):\n",
    "    for i in range(0, 300):\n",
    "        ref_sig = test_data[i, j]\n",
    "        raw_sig = test_data[i, j + 1]\n",
    "        pos, chi2 = Chi2Single(raw_sig,ref_sig,  plot=False)\n",
    "        x_pos_vals[i, j] = pos\n",
    "        x_chi2_vals[i, j] = chi2"
   ]
  },
  {
   "cell_type": "code",
   "execution_count": null,
   "metadata": {
    "collapsed": true
   },
   "outputs": [],
   "source": [
    "with open('z_posres.txt','wb') as f:\n",
    "    for line in z_pos_vals:\n",
    "        np.savetxt(f, line, fmt='%.5f')"
   ]
  },
  {
   "cell_type": "code",
   "execution_count": null,
   "metadata": {
    "collapsed": true
   },
   "outputs": [],
   "source": [
    "with open('x_posres.txt','wb') as f:\n",
    "    for line in x_pos_vals:\n",
    "        np.savetxt(f, line, fmt='%.5f')"
   ]
  },
  {
   "cell_type": "code",
   "execution_count": null,
   "metadata": {
    "collapsed": true
   },
   "outputs": [],
   "source": [
    "print(np.mean(x_pos_vals))\n",
    "plt.imshow(x_chi2_vals[0:10], cmap='jet',vmin= 0, vmax = 3,  interpolation='none')\n",
    "plt.colorbar()\n",
    "plt.savefig('./x_chi2_top.pdf')\n",
    "plt.show()\n",
    "\n",
    "print(np.mean(x_pos_vals))\n",
    "plt.imshow(x_pos_vals[0:10], cmap='jet', vmin= 0, vmax=0.03 ,interpolation='none')\n",
    "plt.colorbar()\n",
    "plt.savefig('./x_pos_top.pdf')\n",
    "plt.show()\n",
    "\n",
    "print(np.mean(x_pos_vals))\n",
    "plt.imshow(x_pos_vals, cmap='jet', interpolation='none',  vmin= 0, vmax=0.03, extent=[0,0.05*11,0, 300*0.05])\n",
    "plt.colorbar()\n",
    "plt.savefig('./x_pos_col.pdf')\n",
    "plt.show()\n",
    "\n",
    "print(np.mean(x_pos_vals))\n",
    "plt.imshow(x_chi2_vals, cmap='jet', interpolation='none', vmin= 0, vmax =3,extent=[0,0.05*11,0, 300*0.05])\n",
    "plt.colorbar()\n",
    "plt.savefig('./x_chi2_col.pdf')\n",
    "plt.show()"
   ]
  },
  {
   "cell_type": "code",
   "execution_count": null,
   "metadata": {
    "collapsed": true
   },
   "outputs": [],
   "source": [
    "# X and X+1\n",
    "lrg_array = np.array((299, 9 * 10))\n",
    "print(x_pos_vals.shape)\n",
    "mini_array = x_pos_vals[0:20,2:11]\n",
    "print(mini_array.shape)\n",
    "print(lrg_array.shape)\n",
    "lrg_array= np.concatenate((mini_array, mini_array, mini_array, mini_array, mini_array), axis = 1)\n",
    "print(lrg_array.shape)\n",
    "\n",
    "print()\n",
    "print(np.mean(x_pos_vals))\n",
    "plt.imshow(lrg_array, cmap='jet', vmin= 0.0,vmax = 0.03,interpolation='none', extent=[0,0.05*45,0, 20*0.05])\n",
    "plt.colorbar()\n",
    "plt.savefig('./lrg_x_pos.pdf')\n",
    "plt.show()\n",
    "\n"
   ]
  },
  {
   "cell_type": "code",
   "execution_count": null,
   "metadata": {
    "collapsed": true
   },
   "outputs": [],
   "source": [
    "# DIAGONAL PLUS\n",
    "\n",
    "chi_2_vals = []\n",
    "dp_pos_vals = np.zeros((299, 11))\n",
    "#print(pos_vals)\n",
    "#for i in range(0, len(base_data)):\n",
    "for j in range(0, 11):\n",
    "    for i in range(0, 299):\n",
    "        ref_sig = test_data[i, j]\n",
    "        raw_sig = test_data[i + 1, j + 1]\n",
    "        pos, chi2 = Chi2Single(raw_sig,ref_sig,  plot=False)\n",
    "        chi_2_vals.append(chi2)\n",
    "        dp_pos_vals[i, j] = pos"
   ]
  },
  {
   "cell_type": "code",
   "execution_count": null,
   "metadata": {
    "collapsed": true
   },
   "outputs": [],
   "source": [
    "with open('dp_posres.txt','wb') as f:\n",
    "    for line in dp_pos_vals:\n",
    "        np.savetxt(f, line, fmt='%.5f')"
   ]
  },
  {
   "cell_type": "code",
   "execution_count": null,
   "metadata": {
    "collapsed": true
   },
   "outputs": [],
   "source": [
    "print(np.mean(dp_pos_vals))\n",
    "plt.imshow(dp_pos_vals, cmap='jet', interpolation='none', vmin=0, vmax = 0.03,extent=[0,0.05*11,0, 299*0.05])\n",
    "plt.colorbar()\n",
    "plt.savefig('./dp_col.pdf')\n",
    "plt.show()\n",
    "\n",
    "print(np.mean(dp_pos_vals))\n",
    "plt.imshow(dp_pos_vals[0:12, 0:12], cmap='jet', interpolation='none', vmin=0, vmax = 0.03,extent=[0,0.05*12,0, 12*0.05])\n",
    "plt.colorbar()\n",
    "plt.savefig('./dp_top.pdf')\n",
    "plt.show()\n",
    "\n",
    "lrg_array = np.array((299, 9 * 10))\n",
    "print(dp_pos_vals.shape)\n",
    "mini_array = dp_pos_vals[0:20,2:11]\n",
    "print(mini_array.shape)\n",
    "print(lrg_array.shape)\n",
    "lrg_array= np.concatenate((mini_array, mini_array, mini_array, mini_array, mini_array), axis = 1)\n",
    "print(lrg_array.shape)\n",
    "\n",
    "print()\n",
    "print(np.mean(dp_pos_vals))\n",
    "plt.imshow(lrg_array, cmap='jet', vmin= 0.0, vmax = 0.03,interpolation='none', extent=[0,0.05*45,0, 20*0.05])\n",
    "plt.colorbar()\n",
    "plt.savefig('./lrg_dp.pdf')\n",
    "plt.show()"
   ]
  },
  {
   "cell_type": "code",
   "execution_count": null,
   "metadata": {
    "collapsed": true
   },
   "outputs": [],
   "source": [
    "with open('dp_posres.txt','wb') as f:\n",
    "    for line in dp_pos_vals:\n",
    "        np.savetxt(f, line, fmt='%.5f')"
   ]
  },
  {
   "cell_type": "code",
   "execution_count": null,
   "metadata": {
    "collapsed": true
   },
   "outputs": [],
   "source": [
    "# DIAGONAL MINUS\n",
    "\n",
    "chi_2_vals = []\n",
    "dm_pos_vals = np.zeros((299, 11)) \n",
    "#print(pos_vals)\n",
    "#for i in range(0, len(base_data)):\n",
    "for j in range(1, 12):\n",
    "    for i in range(1, 300):\n",
    "        ref_sig = test_data[i, j]\n",
    "        raw_sig = test_data[i - 1, j - 1]\n",
    "        pos, chi2 = Chi2Single(raw_sig,ref_sig,  plot=False)\n",
    "        chi_2_vals.append(chi2)\n",
    "        dm_pos_vals[i-1, j-1] = pos"
   ]
  },
  {
   "cell_type": "code",
   "execution_count": null,
   "metadata": {
    "collapsed": true
   },
   "outputs": [],
   "source": [
    "print(np.mean(dm_pos_vals))\n",
    "plt.imshow(dm_pos_vals, cmap='jet', interpolation='none', vmin=0, vmax = 0.03,extent=[0,0.05*11,0, 299*0.05])\n",
    "plt.colorbar()\n",
    "plt.savefig('./dm_col.pdf')\n",
    "plt.show()\n",
    "\n",
    "print(np.mean(dm_pos_vals))\n",
    "plt.imshow(dm_pos_vals[0:12, 0:12], cmap='jet', interpolation='none', vmin=0, vmax = 0.03,extent=[0,0.05*12,0, 12*0.05])\n",
    "plt.colorbar()\n",
    "plt.savefig('./dm_top.pdf')\n",
    "plt.show()\n",
    "\n",
    "lrg_array = np.array((299, 9 * 10))\n",
    "print(dm_pos_vals.shape)\n",
    "mini_array = dm_pos_vals[0:20,2:11]\n",
    "print(mini_array.shape)\n",
    "print(lrg_array.shape)\n",
    "lrg_array= np.concatenate((mini_array, mini_array, mini_array, mini_array, mini_array), axis = 1)\n",
    "print(lrg_array.shape)\n",
    "\n",
    "print()\n",
    "print(np.mean(dm_pos_vals))\n",
    "plt.imshow(lrg_array, cmap='jet', vmin= 0.0, vmax = 0.03,interpolation='none', extent=[0,0.05*45,0, 20*0.05])\n",
    "plt.colorbar()\n",
    "plt.savefig('./lrg_dm.pdf')\n",
    "plt.show()"
   ]
  },
  {
   "cell_type": "code",
   "execution_count": null,
   "metadata": {
    "collapsed": true
   },
   "outputs": [],
   "source": [
    "plt.hist(diff_vals)\n",
    "plt.show()\n",
    "# at 0:12 at 23\n",
    "# 0:23 at 81\n",
    "# 0\"34 at 132"
   ]
  },
  {
   "cell_type": "code",
   "execution_count": null,
   "metadata": {
    "collapsed": true
   },
   "outputs": [],
   "source": [
    "start = time.time()\n",
    "\n",
    "#Chi2OneSignal(np.multiply(base_data[54, 2, 0:], 0.5))\n",
    "sig = base_data[54, 2, 0:]\n",
    "sig = moving_avg_filter(sig)\n",
    "sig = moving_avg_filter(sig)\n",
    "sig = add_noise(sig, 0.02)\n",
    "sig = add_exp_decay(sig)\n",
    "sig = decay_correction(sig, 4400)\n",
    "#sig = base_data[54, 2, 0:]\n",
    "sig = base_data[54, 2, 0:]\n",
    "Chi2OneSignal(sig, plot=True)\n",
    "\n",
    "end = time.time()\n",
    "print(end - start)\n",
    "\n",
    "start = time.time()\n",
    "\n",
    "#Chi2OneSignal(np.multiply(base_data[1, 2, 0:], 2))\n",
    "sig = base_data[1, 2, 0:]\n",
    "#plt.plot(sig, 'ro')\n",
    "sig = moving_avg_filter(sig)\n",
    "#plt.plot(sig, 'yo')\n",
    "sig = moving_avg_filter(sig)\n",
    "plt.plot(sig, 'ro')\n",
    "sig = add_noise(sig, 0.02)\n",
    "plt.plot(sig, 'c')\n",
    "sig = add_exp_decay(sig)\n",
    "plt.plot(sig, 'b')\n",
    "sig = decay_correction(sig, 4400)\n",
    "plt.plot(sig, 'k')\n",
    "plt.xlim([100,300])\n",
    "plt.ylim([0.6, 1])\n",
    "plt.show()\n",
    "sig = base_data[1, 2, 0:]\n",
    "Chi2OneSignal(sig, plot=True)\n",
    "\n",
    "end = time.time()\n",
    "print(end - start)\n",
    "\n",
    "start = time.time()\n",
    "\n",
    "#Chi2OneSignal(np.multiply(base_data[100, 2, 0:], 1))\n",
    "sig = base_data[100, 2, 0:]\n",
    "sig = moving_avg_filter(sig)\n",
    "sig = moving_avg_filter(sig)\n",
    "sig = add_noise(sig, 0.02)\n",
    "sig = add_exp_decay(sig)\n",
    "sig = decay_correction(sig, 4400)\n",
    "sig = base_data[100, 2, 0:]\n",
    "Chi2OneSignal(sig, plot=True)\n",
    "\n",
    "end = time.time()\n",
    "print(end - start)"
   ]
  },
  {
   "cell_type": "code",
   "execution_count": null,
   "metadata": {
    "collapsed": true
   },
   "outputs": [],
   "source": [
    "# IMPORT DATA\n",
    "def ImportData():\n",
    "    data = np.zeros((number_interactions_total, number_strips, number_samples))\n",
    "    for i in range(0, number_interactions_total, 1):\n",
    "        i = int(i)\n",
    "        print(i)\n",
    "        filename = \"Strip_SS_\" + str(i) + \".txt\"\n",
    "        print('processing... ' ,filename)\n",
    "        rawdata = np.genfromtxt(filename, skip_header=1)\n",
    "        # indicies = row, col\n",
    "        strip0 = rawdata[:,6:7]\n",
    "        strip1 = rawdata[:,7:8]\n",
    "        strip2 = rawdata[:,8:9]\n",
    "        strip3 = rawdata[:,9:10]\n",
    "        strip4 = rawdata[:,10:11]\n",
    "        strip5 = rawdata[:,11:12]\n",
    "\n",
    "        for j in range(0, number_samples, 1):\n",
    "            j = int(j)\n",
    "            print(j)\n",
    "            data[i][0][j] = strip0[j] # i = event_number, k=strip, j = number_sample\n",
    "            data[i][1][j] = strip1[j]\n",
    "            data[i][2][j] = strip2[j]\n",
    "            data[i][3][j] = strip3[j]\n",
    "            data[i][4][j] = strip4[j]\n",
    "            data[i][5][j] = strip5[j]\n",
    "    return data"
   ]
  },
  {
   "cell_type": "code",
   "execution_count": null,
   "metadata": {
    "collapsed": true
   },
   "outputs": [],
   "source": [
    "def DownsampleData(data, sampling_interval):\n",
    "    downsampled_data = data[0::sampling_interval]\n",
    "    return downsampled_data\n"
   ]
  },
  {
   "cell_type": "code",
   "execution_count": null,
   "metadata": {
    "collapsed": true
   },
   "outputs": [],
   "source": [
    "def PlotSignalGrid(data, event_num=0, interactions_per_event=[4,5,1]):\n",
    "    signal0 = [0] * 301\n",
    "    signal1 = [0] * 301\n",
    "    signal2 = [0] * 301\n",
    "    signal3 = [0] * 301\n",
    "    signal4 = [0] * 301\n",
    "    signal5 = [0] * 301\n",
    "    n = 301  # in ns the time of the pulse\n",
    "    interactions_already_counted = 0\n",
    "    for l in range(event_num, event_num + 1, 1):\n",
    "        startindex = 0\n",
    "        print('start index ', startindex)\n",
    "        interactions = interactions_per_event[l]\n",
    "        # print('interactions ', interactions)\n",
    "        if l == 0:\n",
    "            interactions_already_counted = 0\n",
    "        else:\n",
    "            interactions_already_counted = int(np.sum(interactions_per_event[0:l]))\n",
    "        # print('interactions_already_counted ', interactions_already_counted)\n",
    "        for i in range(interactions_already_counted, number_interactions_total, 1):\n",
    "            if i < interactions_already_counted + interactions:\n",
    "                for j in range(0, number_samples, 1):\n",
    "                    #if j == 10:\n",
    "                        #print('j + startindex ', j + startindex)\n",
    "                        #print('signal0 ', signal0[j + startindex])\n",
    "                    signal0[j + startindex] = signal0[j + startindex] + data[i][0][j] # i = event_number, k=strip, j = number_sample\n",
    "                    signal1[j + startindex] = signal1[j + startindex] + data[i][1][j]\n",
    "                    signal2[j + startindex] = signal2[j + startindex] + data[i][2][j]\n",
    "                    signal3[j + startindex] = signal3[j + startindex] + data[i][3][j]\n",
    "                    signal4[j + startindex] = signal4[j + startindex] + data[i][4][j]\n",
    "                    signal5[j + startindex] = signal5[j + startindex] + data[i][5][j]\n",
    "\n",
    "    fig, axes = plt.subplots(nrows=2, ncols=3)\n",
    "    axes[0, 0].set_title('strip 0')\n",
    "    axes[0, 1].set_title('strip 1')\n",
    "    axes[0, 2].set_title('strip 2')\n",
    "    axes[1, 0].set_title('strip 3')\n",
    "    axes[1, 1].set_title('strip 4')\n",
    "    axes[1, 2].set_title('strip 5')\n",
    "\n",
    "    axes[0, 0].set_ylim(ymin=-1)\n",
    "    axes[0, 1].set_ylim(ymin=-1)\n",
    "    axes[0, 2].set_ylim(ymin=-1)\n",
    "    axes[1, 0].set_ylim(ymin=-1)\n",
    "    axes[1, 1].set_ylim(ymin=-1)\n",
    "    axes[1, 2].set_ylim(ymin=-1)\n",
    "    axes[0, 0].set_ylim(ymax=1)\n",
    "    axes[0, 1].set_ylim(ymax=1)\n",
    "    axes[0, 2].set_ylim(ymax=1)\n",
    "    axes[1, 0].set_ylim(ymax=1)\n",
    "    axes[1, 1].set_ylim(ymax=1)\n",
    "    axes[1, 2].set_ylim(ymax=1)\n",
    "\n",
    "    axes[0, 0].plot(signal0)\n",
    "    axes[0, 1].plot(signal1)\n",
    "    axes[0, 2].plot(signal2)\n",
    "    axes[1, 0].plot(signal3)\n",
    "    axes[1, 1].plot(signal4)\n",
    "    axes[1, 2].plot(signal5)\n",
    "    fig.tight_layout()\n",
    "    plt.show()"
   ]
  },
  {
   "cell_type": "code",
   "execution_count": null,
   "metadata": {
    "collapsed": true
   },
   "outputs": [],
   "source": [
    "def PlotSignalGridSim(data, event_num = 0):\n",
    "\n",
    "    signal0 = data[event_num][0][0:301] #i = event_number, k=strip, j = number_sample\n",
    "    signal1 = data[event_num][1][0:301]\n",
    "    signal2 = data[event_num][2][0:301]\n",
    "    signal3 = data[event_num][3][0:301]\n",
    "    signal4 = data[event_num][4][0:301]\n",
    "    signal5 = data[event_num][5][0:301]\n",
    "\n",
    "    fig, axes = plt.subplots(nrows=2, ncols=3)\n",
    "    axes[0, 0].set_title('strip 0')\n",
    "    axes[0, 1].set_title('strip 1')\n",
    "    axes[0, 2].set_title('strip 2')\n",
    "    axes[1, 0].set_title('strip 3')\n",
    "    axes[1, 1].set_title('strip 4')\n",
    "    axes[1, 2].set_title('strip 5')\n",
    "\n",
    "    axes[0, 0].set_ylim(ymin=-1)\n",
    "    axes[0, 1].set_ylim(ymin=-1)\n",
    "    axes[0, 2].set_ylim(ymin=-1)\n",
    "    axes[1, 0].set_ylim(ymin=-1)\n",
    "    axes[1, 1].set_ylim(ymin=-1)\n",
    "    axes[1, 2].set_ylim(ymin=-1)\n",
    "    axes[0, 0].set_ylim(ymax=1)\n",
    "    axes[0, 1].set_ylim(ymax=1)\n",
    "    axes[0, 2].set_ylim(ymax=1)\n",
    "    axes[1, 0].set_ylim(ymax=1)\n",
    "    axes[1, 1].set_ylim(ymax=1)\n",
    "    axes[1, 2].set_ylim(ymax=1)\n",
    "\n",
    "    axes[0, 0].plot(signal0)\n",
    "    axes[0, 1].plot(signal1)\n",
    "    axes[0, 2].plot(signal2)\n",
    "    axes[1, 0].plot(signal3)\n",
    "    axes[1, 1].plot(signal4)\n",
    "    axes[1, 2].plot(signal5)\n",
    "    fig.tight_layout()\n",
    "    plt.show()"
   ]
  },
  {
   "cell_type": "code",
   "execution_count": null,
   "metadata": {
    "collapsed": true
   },
   "outputs": [],
   "source": [
    "def test_shifter():\n",
    "    signal0 = data[event_num][0][0:301]\n",
    "    shift_signal(signal0, signal0)\n",
    "    signal0_edited = list(np.linspace(0, signal1[0], 10))\n",
    "    signal0_edited.extend(signal0[0:-10])\n",
    "    shift_signal(signal0, signal0_edited)\n",
    "    signal0_edited = list(np.linspace(0, signal1[0], 50))\n",
    "    signal0_edited.extend(signal0[0:-50])\n",
    "    shift_signal(signal0, signal0_edited)\n",
    "    signal0_edited = list(signal0[(10):])\n",
    "    signal0_edited.extend([float(signal0[-1])] * (10))\n",
    "    shift_signal(signal0, signal0_edited)\n",
    "    signal0_edited = list(signal0[(50):])\n",
    "    signal0_edited.extend([float(signal0[-1])] * (50))\n",
    "    shift_signal(signal0, signal0_edited)\n",
    "\n",
    "def shift_left(signal0, i):\n",
    "    signal0_edited = list(np.linspace(0, signal0[0], i))\n",
    "    signal0_edited.extend(signal0[0:-i])\n",
    "    return signal0_edited\n",
    "\n",
    "\n",
    "def shift_right(signal0, i):\n",
    "    signal0_edited = list(signal0[(i):])\n",
    "    signal0_edited.extend([float(signal0[-1])] * (i))\n",
    "    shift_signal(signal0, signal0_edited)\n",
    "    return signal0_edited"
   ]
  },
  {
   "cell_type": "code",
   "execution_count": null,
   "metadata": {
    "collapsed": true
   },
   "outputs": [],
   "source": [
    "def chi2_compare_all_strips(event_num):\n",
    "    fig, axes = plt.subplots(nrows=2, ncols=3)\n",
    "    axes[0, 0].set_title('strip 0')\n",
    "    axes[0, 1].set_title('strip 1')\n",
    "    axes[0, 2].set_title('strip 2')\n",
    "    axes[1, 0].set_title('strip 3')\n",
    "    axes[1, 1].set_title('strip 4')\n",
    "    axes[1, 2].set_title('strip 5')\n",
    "    axes[0, 0].set_ylim(ymin=-1)\n",
    "    axes[0, 1].set_ylim(ymin=-1)\n",
    "    axes[0, 2].set_ylim(ymin=-1)\n",
    "    axes[1, 0].set_ylim(ymin=-1)\n",
    "    axes[1, 1].set_ylim(ymin=-1)\n",
    "    axes[1, 2].set_ylim(ymin=-1)\n",
    "    axes[0, 0].set_ylim(ymax=1)\n",
    "    axes[0, 1].set_ylim(ymax=1)\n",
    "    axes[0, 2].set_ylim(ymax=1)\n",
    "    axes[1, 0].set_ylim(ymax=1)\n",
    "    axes[1, 1].set_ylim(ymax=1)\n",
    "    axes[1, 2].set_ylim(ymax=1)\n",
    "\n",
    "    chi2_values = []\n",
    "    for strip_num in range(0, 6, 1):\n",
    "        sig_ref = data[0][strip_num][0:301]\n",
    "        sig_raw = shift_left(data[event_num][strip_num][0:301], 50)\n",
    "        sig_shifted, chi2 = shift_signal(sig_ref, sig_raw)\n",
    "        chi2_values.append(chi2)\n",
    "        if strip_num == 0:\n",
    "            j = 0\n",
    "            k = 0\n",
    "        if strip_num == 1:\n",
    "            j = 0\n",
    "            k = 1\n",
    "        if strip_num == 2:\n",
    "            j = 0\n",
    "            k = 2\n",
    "        if strip_num == 3:\n",
    "            j = 1\n",
    "            k = 0\n",
    "        if strip_num == 4:\n",
    "            j = 1\n",
    "            k = 1\n",
    "        if strip_num == 5:\n",
    "            j = 1\n",
    "            k = 2\n",
    "        plt.figure(1)\n",
    "        axes[j, k].plot(sig_ref, 'b-', linewidth=7.0, alpha=0.5, label = 'basis')\n",
    "        axes[j, k].plot(sig_raw, 'g-', linewidth=5.0, alpha=0.5,label = 'original')\n",
    "        axes[j, k].plot(sig_shifted, 'r--', linewidth=3.0, alpha=0.5, label = 'shifted')\n",
    "        axes[j, k].text(0, 0.1, chi2_values[strip_num])\n",
    "    print(chi2_values)\n",
    "    plt.legend()\n",
    "    fig.tight_layout()\n",
    "    plt.savefig('sig0_leftshift.pdf')\n",
    "    plt.show()"
   ]
  },
  {
   "cell_type": "code",
   "execution_count": null,
   "metadata": {
    "collapsed": true
   },
   "outputs": [],
   "source": [
    "def moving_avg_filter(x): #(smooths with width of 1, 3 times)\n",
    "    N = 3\n",
    "    x = np.convolve(x, np.ones((N,))/N, mode='same')\n",
    "    return x"
   ]
  },
  {
   "cell_type": "code",
   "execution_count": null,
   "metadata": {
    "collapsed": true
   },
   "outputs": [],
   "source": [
    "\n",
    "#C = 1*10**(-12)\n",
    "#R = 1*10**16\n",
    "#tau = R*C \n",
    "\n",
    "#Qout = Qs * 1/2 * tm/ tcs     Radeka\n",
    "#Qs = charge on electrode, tm = time duration of measurement, tcs = carrier transit time through channel\n",
    "#dIout/ dQin = 1/tc, tc = transit time,  \n",
    "\n",
    "\n",
    "tau = 4400\n",
    "print(tau)\n",
    "def add_exp_decay(sig):\n",
    "    #sig = np.multiply(sig, 1000)\n",
    "    for i in range(0, len(sig) ,1):\n",
    "        sig[i] = sig[i] * np.exp(-i/tau)\n",
    "    return sig\n",
    "    #1./tau*np.exp(-t/tau)\n",
    "\n",
    "\n",
    "sig = make_sample_signal()\n",
    "#sig = np.multiply(sig, 1/C)\n",
    "plt.plot(sig)\n",
    "sig = add_exp_decay(sig)\n",
    "plt.plot(sig)\n",
    "#plt.xlim([50,100])\n",
    "plt.show()"
   ]
  },
  {
   "cell_type": "code",
   "execution_count": null,
   "metadata": {
    "collapsed": true
   },
   "outputs": [],
   "source": [
    "def func(x, a, c, d):\n",
    "    return a*np.exp(-c*x)+d\n",
    "\n",
    "def Decay(t,tau,t0):\n",
    "    ''' Decay expoential and step function '''\n",
    "    return 1./tau*np.exp(-t/tau) * 0.5*(np.sign(t-t0)+1.0)\n",
    "\n",
    "def ExpDecay(t,tau,t0):\n",
    "    ''' Decay expoential and step function '''\n",
    "    return 1./tau*np.exp(-t/tau) * 0.5 #* 0.5*(np.sign(t-t0)+1.0)\n",
    "\n",
    "tau = 2.344\n",
    "t0 = 0\n",
    "t = np.linspace(-10,10,1000) \n",
    "t_response = np.linspace(-5,10,1000)# Time domain of response function\n",
    "\n",
    "r = Decay(t_response,tau,t0)\n",
    "\n",
    "\n",
    "tau = 5\n",
    "t0 = 0\n",
    "t = np.linspace(-10,10,1000) \n",
    "t_response = np.linspace(-5,10,1000)# Time domain of response function\n",
    "\n",
    "s = ExpDecay(t_response,tau,t0)\n",
    "\n",
    "plt.plot(r)\n",
    "plt.plot(s)\n",
    "plt.show()\n"
   ]
  },
  {
   "cell_type": "code",
   "execution_count": null,
   "metadata": {
    "collapsed": true
   },
   "outputs": [],
   "source": [
    "# event_number is related to the delta_x. delta_y in event sim\n",
    "number_interactions_total = 9\n",
    "number_strips = 6\n",
    "number_samples = 301\n",
    "# times = GetTimeBetweenDecays(10)\n",
    "# print(times)\n",
    "# times = [0, 1000, 2000, 3000]\n",
    "###data = ImportData()\n",
    "##PlotSignalGridSim(data, 0)\n",
    "##PlotSignalGridSim(data, 1)\n",
    "##PlotSignalGridSim(data, 2)\n",
    "##PlotSignalGridSim(data, 3)\n",
    "###event_num = 0\n",
    "###signal0 = data[event_num][0][0:301] #i = event_number, k=strip, j = number_sample\n",
    "signal0 = sig0\n",
    "# signal1 = data[event_num][1][0:301]\n",
    "# signal2 = data[event_num][2][0:301]\n",
    "# signal3 = data[event_num][3][0:301]\n",
    "# signal4 = data[event_num][4][0:301]\n",
    "# signal5 = data[event_num][5][0:301]\n",
    "# align starting points of signal\n",
    "#test_shifter()\n",
    "xdata = signal0\n",
    "xerror = noise_level = 0.02\n",
    "signal0_1 = add_noise(sig0, noise_level) # signal0 #data[1][0][0:301]\n",
    "signal0_2 = add_noise(sig0, noise_level) # signal0 #data[2][0][0:301]\n",
    "signal0_1, chi2_0_1 = shift_signal(signal0, signal0_1)\n",
    "signal0_2, chi2_0_2 = shift_signal(signal0, signal0_2)\n",
    "print('chi ',chi2_0_1)\n",
    "print(chi2_0_2)\n",
    "signal0_1 = data[1][0][0:301]\n",
    "signal0_2 = data[2][0][0:301]\n",
    "signal0_1, chi2_1_2 = shift_signal(signal0_1, signal0_2)\n",
    "print(chi2_1_2)\n",
    "# adjust height of signal\n",
    "\n",
    "\n",
    "chi2_compare_all_strips(0)\n",
    "#chi2_compare_all_strips(0)\n",
    "#\n",
    "#chi2_compare_all_strips(1)\n",
    "#2 interactions?\n",
    "sys.exit()\n",
    "\n",
    "shift_signal(signal0, signal1)\n",
    "shift_signal(signal0, signal2)\n",
    "shift_signal(signal0, signal3)\n",
    "shift_signal(signal0, signal4)\n",
    "shift_signal(signal0, signal5)\n",
    "sys.exit()\n",
    "\n",
    "\n",
    "#chi_squared = np.sum(((sig-sig0)/xerror)**2)\n",
    "#reduced_chi_squared = (chi_squared)/(len(xdata)-len(xdata) + 1)\n",
    "\n",
    "# calculate chisq of signals\n",
    "\n",
    "# calculate position resolution of signals\n",
    "\n",
    "\n",
    "sys.exit()\n"
   ]
  },
  {
   "cell_type": "code",
   "execution_count": null,
   "metadata": {
    "collapsed": true
   },
   "outputs": [],
   "source": [
    "# "
   ]
  },
  {
   "cell_type": "code",
   "execution_count": null,
   "metadata": {
    "collapsed": true
   },
   "outputs": [],
   "source": []
  }
 ],
 "metadata": {
  "kernelspec": {
   "display_name": "Python 2",
   "language": "python",
   "name": "python2"
  },
  "language_info": {
   "codemirror_mode": {
    "name": "ipython",
    "version": 2
   },
   "file_extension": ".py",
   "mimetype": "text/x-python",
   "name": "python",
   "nbconvert_exporter": "python",
   "pygments_lexer": "ipython2",
   "version": "2.7.14"
  }
 },
 "nbformat": 4,
 "nbformat_minor": 2
}
